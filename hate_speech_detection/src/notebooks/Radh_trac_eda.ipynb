{
 "cells": [
  {
   "cell_type": "code",
   "execution_count": null,
   "metadata": {},
   "outputs": [],
   "source": [
    "from os import getcwd, listdir, chdir \n",
    "chdir(\"../../..\") "
   ]
  },
  {
   "cell_type": "code",
   "execution_count": null,
   "metadata": {
    "scrolled": false
   },
   "outputs": [],
   "source": [
    "from os import getcwd, listdir\n",
    "import numpy as np\n",
    "import pandas as pd\n",
    "\n",
    "# HateBase Twitter Data\n",
    "data_path = getcwd() + \"/u_1/hate_speech_detection/data/HatebaseTwitter/english\"\n",
    "listdir(data_path)\n",
    "english_data_dict = {i[:-4]: pd.read_csv(f\"{data_path}/{i}\") for i in listdir(data_path)[:2]}\n",
    "english_data_dict['agr_en_dev'].head()\n",
    "english_data_dict['agr_en_train'].head()\n",
    "english_data_dict['agr_en_train'].shape\n",
    "len_comments = [len(i) for i in english_data_dict['agr_en_train']['comment'].tolist()]\n",
    "english_data_dict['agr_en_train']['comment_length'] = len_comments\n",
    "english_data_dict['agr_en_train'].head()\n",
    "\n",
    "english_data_dict['agr_en_train']['comment_length'].describe()"
   ]
  },
  {
   "cell_type": "code",
   "execution_count": null,
   "metadata": {},
   "outputs": [],
   "source": []
  }
 ],
 "metadata": {
  "kernelspec": {
   "display_name": "Python 3",
   "language": "python",
   "name": "python3"
  },
  "language_info": {
   "codemirror_mode": {
    "name": "ipython",
    "version": 3
   },
   "file_extension": ".py",
   "mimetype": "text/x-python",
   "name": "python",
   "nbconvert_exporter": "python",
   "pygments_lexer": "ipython3",
   "version": "3.7.4"
  }
 },
 "nbformat": 4,
 "nbformat_minor": 2
}
