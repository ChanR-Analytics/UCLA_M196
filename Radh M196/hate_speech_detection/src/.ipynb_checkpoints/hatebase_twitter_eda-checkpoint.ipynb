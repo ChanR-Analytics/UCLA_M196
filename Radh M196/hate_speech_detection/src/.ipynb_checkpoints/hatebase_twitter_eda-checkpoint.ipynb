{
 "cells": [
  {
   "cell_type": "code",
   "execution_count": 1,
   "metadata": {},
   "outputs": [],
   "source": [
    "from os import getcwd, listdir, chdir \n",
    "chdir(\"../../..\")"
   ]
  },
  {
   "cell_type": "code",
   "execution_count": 2,
   "metadata": {},
   "outputs": [
    {
     "ename": "NameError",
     "evalue": "name 'data_path' is not defined",
     "output_type": "error",
     "traceback": [
      "\u001b[1;31m---------------------------------------------------------------------------\u001b[0m",
      "\u001b[1;31mNameError\u001b[0m                                 Traceback (most recent call last)",
      "\u001b[1;32m<ipython-input-2-00077b70b478>\u001b[0m in \u001b[0;36m<module>\u001b[1;34m\u001b[0m\n\u001b[1;32m----> 1\u001b[1;33m \u001b[0mlistdir\u001b[0m\u001b[1;33m(\u001b[0m\u001b[0mdata_path\u001b[0m\u001b[1;33m)\u001b[0m\u001b[1;33m\u001b[0m\u001b[1;33m\u001b[0m\u001b[0m\n\u001b[0m",
      "\u001b[1;31mNameError\u001b[0m: name 'data_path' is not defined"
     ]
    }
   ],
   "source": [
    "listdir(data_path)"
   ]
  },
  {
   "cell_type": "code",
   "execution_count": 3,
   "metadata": {},
   "outputs": [
    {
     "data": {
      "text/plain": [
       "['',\n",
       " 'As',\n",
       " 'a',\n",
       " 'woman',\n",
       " 'you',\n",
       " \"shouldn't\",\n",
       " 'complain',\n",
       " 'about',\n",
       " 'cleaning',\n",
       " 'up',\n",
       " 'your',\n",
       " 'house.',\n",
       " '&amp;',\n",
       " 'as',\n",
       " 'a',\n",
       " 'man',\n",
       " 'you',\n",
       " 'should',\n",
       " 'always',\n",
       " 'take',\n",
       " 'the',\n",
       " 'trash',\n",
       " 'out...']"
      ]
     },
     "execution_count": 3,
     "metadata": {},
     "output_type": "execute_result"
    }
   ],
   "source": [
    "import numpy as np\n",
    "import pandas as pd\n",
    "from os import getcwd, listdir\n",
    "\n",
    "# HatebaseTwitter Data Path\n",
    "data_path = getcwd() + \"/u_1/hate_speech_detection/data/HatebaseTwitter\"\n",
    "listdir(data_path)\n",
    "df = pd.read_csv(f\"{data_path}/{listdir(data_path)[2]}\")\n",
    "df.shape\n",
    "df.drop(list(df.columns)[0], axis=1, inplace=True)\n",
    "\n",
    "# df.head()\n",
    "# df.to_csv(f\"{data_path}/final_hatebase_twitter.csv\", index=False)\n",
    "\n",
    "df.head()\n",
    "\n",
    "\n",
    "class_values = df['class'].value_counts().to_dict()\n",
    "class_values\n",
    "class_values.keys()\n",
    "labels = ['hateful', 'offensive', 'neither']\n",
    "\n",
    "new_class_vals = {labels[key]: class_values[key] for key in class_values.keys()}\n",
    "new_class_vals\n",
    "\n",
    "new_class_val_props = {key : f\"{round(new_class_vals[key] / sum([i for i in new_class_vals.values()]) , 2)*100}%\" for key in new_class_vals.keys()}\n",
    "new_class_val_props\n",
    "\n",
    "df.shape\n",
    "\n",
    "24802 - 24783\n",
    "\n",
    "tweet_one = df['tweet'][0]\n",
    "tweet_one\n",
    "processed_tweet_one = tweet_one[tweet_one.index(\":\") + 1:]\n",
    "processed_tweet_one.split(\" \")"
   ]
  }
 ],
 "metadata": {
  "kernelspec": {
   "display_name": "Python 3",
   "language": "python",
   "name": "python3"
  },
  "language_info": {
   "codemirror_mode": {
    "name": "ipython",
    "version": 3
   },
   "file_extension": ".py",
   "mimetype": "text/x-python",
   "name": "python",
   "nbconvert_exporter": "python",
   "pygments_lexer": "ipython3",
   "version": "3.7.4"
  }
 },
 "nbformat": 4,
 "nbformat_minor": 2
}
