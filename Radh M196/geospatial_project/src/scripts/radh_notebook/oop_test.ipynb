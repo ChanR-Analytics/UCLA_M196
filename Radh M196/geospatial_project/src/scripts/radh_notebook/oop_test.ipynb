{
 "cells": [
  {
   "cell_type": "code",
   "execution_count": 1,
   "metadata": {},
   "outputs": [],
   "source": [
    "from os import getcwd, listdir, chdir \n",
    "chdir(\"../../..\") "
   ]
  },
  {
   "cell_type": "code",
   "execution_count": 3,
   "metadata": {},
   "outputs": [
    {
     "ename": "ModuleNotFoundError",
     "evalue": "No module named 'geospatial_project'",
     "output_type": "error",
     "traceback": [
      "\u001b[1;31m---------------------------------------------------------------------------\u001b[0m",
      "\u001b[1;31mModuleNotFoundError\u001b[0m                       Traceback (most recent call last)",
      "\u001b[1;32m<ipython-input-3-84a9e24c84f6>\u001b[0m in \u001b[0;36m<module>\u001b[1;34m\u001b[0m\n\u001b[0;32m      1\u001b[0m \u001b[1;32mfrom\u001b[0m \u001b[0mtime\u001b[0m \u001b[1;32mimport\u001b[0m \u001b[0msleep\u001b[0m\u001b[1;33m\u001b[0m\u001b[1;33m\u001b[0m\u001b[0m\n\u001b[0;32m      2\u001b[0m \u001b[1;32mfrom\u001b[0m \u001b[0mos\u001b[0m \u001b[1;32mimport\u001b[0m \u001b[0mgetcwd\u001b[0m\u001b[1;33m,\u001b[0m \u001b[0mlistdir\u001b[0m\u001b[1;33m\u001b[0m\u001b[1;33m\u001b[0m\u001b[0m\n\u001b[1;32m----> 3\u001b[1;33m \u001b[1;32mfrom\u001b[0m \u001b[0mgeospatial_project\u001b[0m\u001b[1;33m.\u001b[0m\u001b[0msrc\u001b[0m\u001b[1;33m.\u001b[0m\u001b[0mscripts\u001b[0m\u001b[1;33m.\u001b[0m\u001b[0mradh_notebook\u001b[0m\u001b[1;33m.\u001b[0m\u001b[0mnearest_restaurants_schools_oop\u001b[0m \u001b[1;32mimport\u001b[0m \u001b[0mnearest_restaurants\u001b[0m\u001b[1;33m\u001b[0m\u001b[1;33m\u001b[0m\u001b[0m\n\u001b[0m\u001b[0;32m      4\u001b[0m \u001b[1;32mfrom\u001b[0m \u001b[0mIPython\u001b[0m\u001b[1;33m.\u001b[0m\u001b[0mdisplay\u001b[0m \u001b[1;32mimport\u001b[0m \u001b[0mdisplay\u001b[0m\u001b[1;33m\u001b[0m\u001b[1;33m\u001b[0m\u001b[0m\n\u001b[0;32m      5\u001b[0m \u001b[1;33m\u001b[0m\u001b[0m\n",
      "\u001b[1;31mModuleNotFoundError\u001b[0m: No module named 'geospatial_project'"
     ]
    }
   ],
   "source": [
    "from time import sleep\n",
    "from os import getcwd, listdir\n",
    "from geospatial_project.src.scripts.radh_notebook.nearest_restaurants_schools_oop import nearest_restaurants\n",
    "from IPython.display import display\n",
    "\n",
    "school_path = getcwd() + \"/geospatial_project/data/csv\"\n",
    "\n",
    "nr = nearest_restaurants(school_path)\n",
    "nr.view_schools()\n",
    "nr.make_coordinates()\n",
    "\n",
    "nr_results = nr.search_results(query='restaurants', radius=10, now=False)\n",
    "# Rather than Putting Page Result 2 and 3 in the Class, add them from the instantiated object\n",
    "count = 0\n",
    "\n",
    "school_names = nr.df['school_name'].tolist()\n",
    "\n",
    "result_dict = {}\n",
    "while count < len(nr_results):\n",
    "    result = nr_results[count]\n",
    "    sleep(3)\n",
    "    result2 = nr.gmaps.places(query='restaurants', page_token=result['next_page_token'])\n",
    "    sleep(3)\n",
    "    result3 = nr.gmaps.places(query='restaurants', page_token=result2['next_page_token'])\n",
    "    result_dict[school_names[count]] = [result, result2, result3]\n",
    "    count += 1\n",
    "\n",
    "nr_frame_dict = nr.frame_process(result_dict)\n",
    "\n",
    "haversine_results = nr.haversine_distance(nr_frame_dict, 'km')\n",
    "\n",
    "google_results = nr.google_distance(nr_frame_dict, transporation_mode='walking')\n",
    "\n",
    "for school in haversine_results.keys():\n",
    "    display(haversine_results[school].dropna().reset_index().drop('index', axis=1))\n",
    "\n",
    "\n",
    "merged_df_results = nr.merge_frames(nr_frame_dict, haversine_results, google_results)\n",
    "\n",
    "merged_df_results['Arcadia High School']"
   ]
  },
  {
   "cell_type": "code",
   "execution_count": null,
   "metadata": {},
   "outputs": [],
   "source": [
    "\"\"\"\n",
    "myMergeDict = {}\n",
    "\n",
    "for key in nr_frame_dict.keys():\n",
    "    myList = []\n",
    "    myList.append(key)\n",
    "    myMerge = pd.concat([google_results[key],nr_frame_dict[key]])\n",
    "    print(myMerge)\n",
    "\"\"\"    "
   ]
  },
  {
   "cell_type": "code",
   "execution_count": null,
   "metadata": {},
   "outputs": [],
   "source": []
  }
 ],
 "metadata": {
  "kernelspec": {
   "display_name": "Python 3",
   "language": "python",
   "name": "python3"
  },
  "language_info": {
   "codemirror_mode": {
    "name": "ipython",
    "version": 3
   },
   "file_extension": ".py",
   "mimetype": "text/x-python",
   "name": "python",
   "nbconvert_exporter": "python",
   "pygments_lexer": "ipython3",
   "version": "3.7.4"
  }
 },
 "nbformat": 4,
 "nbformat_minor": 2
}
